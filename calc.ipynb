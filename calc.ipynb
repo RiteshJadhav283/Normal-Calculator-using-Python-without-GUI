{
 "cells": [
  {
   "cell_type": "code",
   "execution_count": 3,
   "metadata": {},
   "outputs": [
    {
     "name": "stdout",
     "output_type": "stream",
     "text": [
      "----Enter your equation----\n",
      "The result of the equation 4+4*7/3 is: 13.333333333333334\n"
     ]
    }
   ],
   "source": [
    "def calculator():\n",
    "    print(\"----Enter your equation----\")\n",
    "    a = input(\"Enter your equation: \")\n",
    "    a = a.replace('^', '**')\n",
    "    a = a.replace('%', '/100')\n",
    "\n",
    "    try:\n",
    "        b = eval(a)\n",
    "        print(f\"The result of the equation {a} is: {b}\")\n",
    "    except ZeroDivisionError:\n",
    "        print(\"Error! Number Divided by Zero\")\n",
    "    except Exception as e:\n",
    "        print(f\"Error! Invalid equation. Details: {e}\")\n",
    "\n",
    "calculator()"
   ]
  },
  {
   "cell_type": "code",
   "execution_count": 19,
   "metadata": {},
   "outputs": [
    {
     "data": {
      "text/plain": [
       "8"
      ]
     },
     "execution_count": 19,
     "metadata": {},
     "output_type": "execute_result"
    }
   ],
   "source": [
    "3+5"
   ]
  }
 ],
 "metadata": {
  "kernelspec": {
   "display_name": "Python 3",
   "language": "python",
   "name": "python3"
  },
  "language_info": {
   "codemirror_mode": {
    "name": "ipython",
    "version": 3
   },
   "file_extension": ".py",
   "mimetype": "text/x-python",
   "name": "python",
   "nbconvert_exporter": "python",
   "pygments_lexer": "ipython3",
   "version": "3.12.6"
  }
 },
 "nbformat": 4,
 "nbformat_minor": 2
}
